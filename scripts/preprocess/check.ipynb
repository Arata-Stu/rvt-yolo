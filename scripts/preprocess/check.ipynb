{
 "cells": [
  {
   "cell_type": "code",
   "execution_count": null,
   "metadata": {},
   "outputs": [],
   "source": [
    "import os\n",
    "\n",
    "def check_event_representations_exist(data_root, dt, representation_type):\n",
    "    missing_sequences = []\n",
    "    \n",
    "    # train, test, val 各ディレクトリを確認\n",
    "    for subset in ['train', 'test', 'val']:\n",
    "        subset_path = os.path.join(data_root, subset)\n",
    "        \n",
    "        # 各シーケンスディレクトリを探索\n",
    "        for sequence_dir in os.listdir(subset_path):\n",
    "            sequence_path = os.path.join(subset_path, sequence_dir)\n",
    "            event_path = os.path.join(sequence_path, 'event_representations_v2', f'event_frame_dt={dt}_nbins=10')\n",
    "            \n",
    "            # 特定の representation_type が存在するか確認\n",
    "            if not os.path.isdir(event_path) or not os.path.exists(os.path.join(event_path, representation_type)):\n",
    "                missing_sequences.append(sequence_path)\n",
    "\n",
    "    # 結果表示\n",
    "    if missing_sequences:\n",
    "        print(f\"以下のシーケンスには指定したdtやrepresentation_typeのディレクトリが存在しません:\\n\")\n",
    "        for path in missing_sequences:\n",
    "            print(path)\n",
    "    else:\n",
    "        print(\"すべてのシーケンスに指定したdtとrepresentation_typeが存在します。\")\n",
    "\n"
   ]
  },
  {
   "cell_type": "code",
   "execution_count": null,
   "metadata": {},
   "outputs": [],
   "source": [
    "# 使用例\n",
    "data_root = 'path/to/pre_gen1/'\n",
    "dt = 10  # 確認したい dt\n",
    "representation_type = 'event_representations.h5'  # 確認したいファイル\n",
    "\n",
    "check_event_representations_exist(data_root, dt, representation_type)"
   ]
  }
 ],
 "metadata": {
  "kernelspec": {
   "display_name": "event_env",
   "language": "python",
   "name": "python3"
  },
  "language_info": {
   "name": "python",
   "version": "3.9.19"
  }
 },
 "nbformat": 4,
 "nbformat_minor": 2
}
