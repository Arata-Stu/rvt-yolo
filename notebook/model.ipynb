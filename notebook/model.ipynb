{
 "cells": [
  {
   "cell_type": "code",
   "execution_count": 1,
   "metadata": {},
   "outputs": [],
   "source": [
    "import sys\n",
    "import os\n",
    "\n",
    "# プロジェクトのルートディレクトリを指定\n",
    "project_root = os.path.abspath(os.path.join(os.getcwd(), './..'))\n",
    "sys.path.append(project_root)\n",
    "\n",
    "\n",
    "def modify_paths(config):\n",
    "    # dataset.data_dir に ../ を追加\n",
    "    config['dataset']['data_dir'] = os.path.join('..', config['dataset']['data_dir'])\n",
    "\n",
    "    # dataset.split_config が存在する場合に ../ を追加\n",
    "    if 'split_config' in config['dataset']:\n",
    "        config['dataset']['split_config'] = os.path.join('..', config['dataset']['split_config'])\n",
    "\n",
    "    return config\n",
    "\n",
    "def count_parameters_in_mb(model):\n",
    "    total_params = sum(param.numel() for param in model.parameters() if param.requires_grad)\n",
    "    return total_params * 4 / (1024 ** 2)  # 4バイトで換算しMBに変換\n"
   ]
  },
  {
   "cell_type": "code",
   "execution_count": 2,
   "metadata": {},
   "outputs": [],
   "source": [
    "from omegaconf import OmegaConf\n",
    "from config.modifier import dynamically_modify_train_config\n",
    "from modules.fetch import fetch_model_module, fetch_data_module"
   ]
  },
  {
   "cell_type": "code",
   "execution_count": null,
   "metadata": {},
   "outputs": [],
   "source": [
    "config_paths = [\n",
    "        '../config/model/rvt_detector/rvt_frame.yaml',\n",
    "        '../config/dataset/gen1/event_frame/sequence/dt_50.yaml',\n",
    "        '../config/experiment/train.yaml'\n",
    "    ]\n",
    "\n",
    "configs = [OmegaConf.load(path) for path in config_paths]\n",
    "merged_conf = OmegaConf.merge(*configs)\n",
    "config = modify_paths(merged_conf)\n",
    "dynamically_modify_train_config(config=config)\n"
   ]
  },
  {
   "cell_type": "code",
   "execution_count": null,
   "metadata": {},
   "outputs": [],
   "source": [
    "from models.detection.yolox.network.backbone.darknet import CSPDarknet\n",
    "from models.detection.yolox.network.backbone.pafpn import YOLOPAFPN\n",
    "from models.detection.yolox.network.head.yolo_head import YOLOXHead\n",
    "from models.detection.RVT.models.detection.recurrent_backbone import build_recurrent_backbone\n",
    "model_ = build_recurrent_backbone(backbone_cfg=config.model.backbone)\n",
    "model_.eval()\n",
    "count_parameters_in_mb(model_)"
   ]
  },
  {
   "cell_type": "code",
   "execution_count": null,
   "metadata": {},
   "outputs": [],
   "source": []
  }
 ],
 "metadata": {
  "kernelspec": {
   "display_name": "event_env",
   "language": "python",
   "name": "python3"
  },
  "language_info": {
   "codemirror_mode": {
    "name": "ipython",
    "version": 3
   },
   "file_extension": ".py",
   "mimetype": "text/x-python",
   "name": "python",
   "nbconvert_exporter": "python",
   "pygments_lexer": "ipython3",
   "version": "3.9.19"
  }
 },
 "nbformat": 4,
 "nbformat_minor": 2
}
